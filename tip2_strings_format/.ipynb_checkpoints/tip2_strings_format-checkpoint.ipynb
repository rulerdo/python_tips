{
 "cells": [
  {
   "cell_type": "markdown",
   "id": "1606f692",
   "metadata": {},
   "source": [
    "# TIP: Distintas formas de darle formato a un string"
   ]
  },
  {
   "cell_type": "markdown",
   "id": "499141fe",
   "metadata": {},
   "source": [
    "## Ejemplo 1"
   ]
  },
  {
   "cell_type": "markdown",
   "id": "ccdf75dc",
   "metadata": {},
   "source": [
    "Creamos algunas variables para trabajar un frase"
   ]
  },
  {
   "cell_type": "code",
   "execution_count": null,
   "id": "9061de75",
   "metadata": {},
   "outputs": [],
   "source": [
    "n = 'Raul'\n",
    "a = 'Gomez'\n",
    "e = '39'"
   ]
  },
  {
   "cell_type": "markdown",
   "id": "65624ca7",
   "metadata": {},
   "source": [
    "Para incorporar las variables creadas a la frase podemos concatenar fragmentos de la frase (strings) con las variables"
   ]
  },
  {
   "cell_type": "code",
   "execution_count": null,
   "id": "3a02714e",
   "metadata": {},
   "outputs": [],
   "source": [
    "# Concatenar\n",
    "frase = 'Hola, mi nombre es ' + n + ' ' + a + ' y tengo ' + e + ' años'\n",
    "print(frase)"
   ]
  },
  {
   "cell_type": "markdown",
   "id": "8f02303a",
   "metadata": {},
   "source": [
    "En Python2 surgio la opcion de darle formato a los strings usando placeholders (%)"
   ]
  },
  {
   "cell_type": "code",
   "execution_count": null,
   "id": "f7149270",
   "metadata": {},
   "outputs": [],
   "source": [
    "# Placeholders\n",
    "frase = 'Hola, mi nombre es %s %s y tengo %s años' % (n,a,e)\n",
    "print(frase)"
   ]
  },
  {
   "cell_type": "markdown",
   "id": "30a64198",
   "metadata": {},
   "source": [
    "En Python3 Los placeholders fueron reemplazados por la funcion format"
   ]
  },
  {
   "cell_type": "code",
   "execution_count": null,
   "id": "f528a267",
   "metadata": {},
   "outputs": [],
   "source": [
    "# Funcion format\n",
    "frase = 'Hola, mi nombre es {} {} y tengo {} años'.format(n,a,e)\n",
    "print(frase)"
   ]
  },
  {
   "cell_type": "markdown",
   "id": "58064ef3",
   "metadata": {},
   "source": [
    "Una ventaja de usar str.format() es que podemos indicar el indice de los argumentos de la funcion en los {} y cambiar el orden en el que usamos las variables"
   ]
  },
  {
   "cell_type": "code",
   "execution_count": null,
   "id": "d9201b21",
   "metadata": {},
   "outputs": [],
   "source": [
    "# Funcion format\n",
    "frase = 'Hola, mi nombre es {2} {0} y tengo {1} años'.format(n,a,e)\n",
    "print(frase)"
   ]
  },
  {
   "cell_type": "markdown",
   "id": "06f3160c",
   "metadata": {},
   "source": [
    "A partir de Python3.6 podemos usar f-strings"
   ]
  },
  {
   "cell_type": "code",
   "execution_count": null,
   "id": "fdbf6b62",
   "metadata": {},
   "outputs": [],
   "source": [
    "frase = f'Hola, mi nombre es {n} {a} y tengo {e} años'\n",
    "print(frase)"
   ]
  },
  {
   "cell_type": "markdown",
   "id": "1d6ce405",
   "metadata": {},
   "source": [
    "Con f-strings puedes imprimir en la terminal el nombre de la variable usando el simbolo de =\n",
    "\n",
    "Esta funcionalidad me gusta mucho usarla para debuggear mi codigo"
   ]
  },
  {
   "cell_type": "code",
   "execution_count": null,
   "id": "6ee60fa5",
   "metadata": {},
   "outputs": [],
   "source": [
    "saludo = f'Hola, soy {n=} {a=}'\n",
    "print(saludo)"
   ]
  },
  {
   "cell_type": "markdown",
   "id": "a3e270f8",
   "metadata": {},
   "source": [
    "## Ejemplo 2"
   ]
  },
  {
   "cell_type": "markdown",
   "id": "f646eda9",
   "metadata": {},
   "source": [
    "Todo esto aplica tambien para strings multilinea"
   ]
  },
  {
   "cell_type": "markdown",
   "id": "0061ce76",
   "metadata": {},
   "source": [
    "Creamos algunas nuevas variables"
   ]
  },
  {
   "cell_type": "code",
   "execution_count": null,
   "id": "668e8a1f",
   "metadata": {},
   "outputs": [],
   "source": [
    "v = 'Juan Perez'\n",
    "d = '15'\n",
    "p = 'Mexico, Colombia, Peru (Total 3)'\n",
    "g = '$50,000 MXN'"
   ]
  },
  {
   "cell_type": "markdown",
   "id": "0e76159d",
   "metadata": {},
   "source": [
    "Concatenar"
   ]
  },
  {
   "cell_type": "code",
   "execution_count": null,
   "id": "bc68cf94",
   "metadata": {},
   "outputs": [],
   "source": [
    "reporte = '''\n",
    "======================================================================\n",
    "Reporte de viaje (Concatenar)\n",
    "======================================================================\n",
    "Viajero: ''' + v + '''\n",
    "Paises visitados: ''' + p + '''\n",
    "Dias de viaje: ''' + d + '''\n",
    "Gastos: ''' + g + '''\n",
    "======================================================================\n",
    "'''\n",
    "print(reporte)"
   ]
  },
  {
   "cell_type": "markdown",
   "id": "830a0401",
   "metadata": {},
   "source": [
    "Placeholder"
   ]
  },
  {
   "cell_type": "code",
   "execution_count": null,
   "id": "d15fb543",
   "metadata": {},
   "outputs": [],
   "source": [
    "reporte = '''\n",
    "======================================================================\n",
    "Reporte de viaje (Placeholder)\n",
    "======================================================================\n",
    "Viajero: %s\n",
    "Paises visitados: %s\n",
    "Dias totales: %s\n",
    "Gastos: %s\n",
    "======================================================================\n",
    "''' % (v,p,d,g)\n",
    "print(reporte)"
   ]
  },
  {
   "cell_type": "markdown",
   "id": "7bd5824d",
   "metadata": {},
   "source": [
    "str.format()"
   ]
  },
  {
   "cell_type": "code",
   "execution_count": null,
   "id": "91fe4083",
   "metadata": {},
   "outputs": [],
   "source": [
    "reporte = '''\n",
    "======================================================================\n",
    "Reporte de viaje (string.format())\n",
    "======================================================================\n",
    "Viajero: {}\n",
    "Paises visitados: {}\n",
    "Dias totales: {}\n",
    "Gastos: {}\n",
    "======================================================================\n",
    "'''.format(v,p,d,g)\n",
    "print(reporte)"
   ]
  },
  {
   "cell_type": "markdown",
   "id": "422eeeef",
   "metadata": {},
   "source": [
    "F-string"
   ]
  },
  {
   "cell_type": "code",
   "execution_count": null,
   "id": "47065253",
   "metadata": {},
   "outputs": [],
   "source": [
    "reporte = f'''\n",
    "======================================================================\n",
    "Reporte de viaje (f-strings)\n",
    "======================================================================\n",
    "Viajero: {v}\n",
    "Paises visitados: {p}\n",
    "Dias totales: {d}\n",
    "Gastos: {g}\n",
    "======================================================================\n",
    "'''\n",
    "print(reporte)"
   ]
  },
  {
   "cell_type": "markdown",
   "id": "688dee34",
   "metadata": {},
   "source": [
    "## Gracias!\n",
    "\n",
    "Raul Gomez\n",
    "\n",
    "YouTube: https://www.youtube.com/channel/UCbSCUSwUWhFSgG_VVi8LSKw\n",
    "\n",
    "GitHub: https://github.com/rulerdo\n",
    "\n",
    "Twitter: https://twitter.com/rulerdo\n",
    "\n",
    "Linkedin: https://www.linkedin.com/in/raul-gomez-1a237593/\n",
    "\n",
    "Email: raul.agobe@gmail.com"
   ]
  }
 ],
 "metadata": {
  "kernelspec": {
   "display_name": "Python 3 (ipykernel)",
   "language": "python",
   "name": "python3"
  },
  "language_info": {
   "codemirror_mode": {
    "name": "ipython",
    "version": 3
   },
   "file_extension": ".py",
   "mimetype": "text/x-python",
   "name": "python",
   "nbconvert_exporter": "python",
   "pygments_lexer": "ipython3",
   "version": "3.9.7"
  }
 },
 "nbformat": 4,
 "nbformat_minor": 5
}
