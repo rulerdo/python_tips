{
 "cells": [
  {
   "cell_type": "markdown",
   "id": "1a59092b",
   "metadata": {},
   "source": [
    "# TIP: Distintas formas de darle formato a un string\n",
    "\n",
    "https://docs.python.org/3/tutorial/inputoutput.html#fancier-output-formatting\n",
    "\n",
    "https://docs.python.org/3/library/stdtypes.html#old-string-formatting"
   ]
  },
  {
   "cell_type": "markdown",
   "id": "661f7345",
   "metadata": {},
   "source": [
    "## Ejemplo 1"
   ]
  },
  {
   "cell_type": "markdown",
   "id": "411ae481",
   "metadata": {},
   "source": [
    "Creamos algunas variables para trabajar un frase"
   ]
  },
  {
   "cell_type": "code",
   "execution_count": null,
   "id": "ee18c766",
   "metadata": {},
   "outputs": [],
   "source": [
    "n = 'Raul'\n",
    "a = 'Gomez'\n",
    "e = '39'"
   ]
  },
  {
   "cell_type": "markdown",
   "id": "17a797e1",
   "metadata": {},
   "source": [
    "Para incorporar las variables creadas a la frase podemos concatenar fragmentos de la frase (strings) con las variables"
   ]
  },
  {
   "cell_type": "code",
   "execution_count": null,
   "id": "8ca2f2c9",
   "metadata": {},
   "outputs": [],
   "source": [
    "# Concatenar\n",
    "frase = 'Hola, mi nombre es ' + n + ' ' + a + ' y tengo ' + e + ' años'\n",
    "print(frase)"
   ]
  },
  {
   "cell_type": "markdown",
   "id": "d58317c3",
   "metadata": {},
   "source": [
    "En Python2 surgio la opcion de darle formato a los strings usando placeholders (%)"
   ]
  },
  {
   "cell_type": "code",
   "execution_count": null,
   "id": "2aace8e1",
   "metadata": {},
   "outputs": [],
   "source": [
    "# Placeholders\n",
    "frase = 'Hola, mi nombre es %s %s y tengo %s años' % (n,a,e)\n",
    "print(frase)"
   ]
  },
  {
   "cell_type": "markdown",
   "id": "3346a482",
   "metadata": {},
   "source": [
    "En Python3 Los placeholders fueron reemplazados por la funcion format"
   ]
  },
  {
   "cell_type": "code",
   "execution_count": null,
   "id": "23ace35e",
   "metadata": {},
   "outputs": [],
   "source": [
    "# Funcion format\n",
    "frase = 'Hola, mi nombre es {} {} y tengo {} años'.format(n,a,e)\n",
    "print(frase)"
   ]
  },
  {
   "cell_type": "markdown",
   "id": "386e3c58",
   "metadata": {},
   "source": [
    "Una ventaja de usar str.format() es que podemos indicar el indice de los argumentos de la funcion en los {} y cambiar el orden en el que usamos las variables"
   ]
  },
  {
   "cell_type": "code",
   "execution_count": null,
   "id": "9957bed7",
   "metadata": {},
   "outputs": [],
   "source": [
    "# Funcion format\n",
    "frase = 'Hola, mi nombre es {2} {0} y tengo {1} años'.format(n,a,e)\n",
    "print(frase)"
   ]
  },
  {
   "cell_type": "markdown",
   "id": "5b3c8bbe",
   "metadata": {},
   "source": [
    "A partir de Python3.6 podemos usar f-strings"
   ]
  },
  {
   "cell_type": "code",
   "execution_count": null,
   "id": "63615b8e",
   "metadata": {},
   "outputs": [],
   "source": [
    "frase = f'Hola, mi nombre es {n} {a} y tengo {e} años'\n",
    "print(frase)"
   ]
  },
  {
   "cell_type": "markdown",
   "id": "dd99f364",
   "metadata": {},
   "source": [
    "Con f-strings puedes imprimir en la terminal el nombre de la variable usando el simbolo de =\n",
    "\n",
    "Esta funcionalidad me gusta mucho usarla para debuggear mi codigo"
   ]
  },
  {
   "cell_type": "code",
   "execution_count": null,
   "id": "0fd452e4",
   "metadata": {},
   "outputs": [],
   "source": [
    "saludo = f'Hola, soy {n=} {a=}'\n",
    "print(saludo)"
   ]
  },
  {
   "cell_type": "markdown",
   "id": "a8866619",
   "metadata": {},
   "source": [
    "## Ejemplo 2"
   ]
  },
  {
   "cell_type": "markdown",
   "id": "3bfcab70",
   "metadata": {},
   "source": [
    "Todo esto aplica tambien para strings multilinea"
   ]
  },
  {
   "cell_type": "markdown",
   "id": "db26b678",
   "metadata": {},
   "source": [
    "Creamos algunas nuevas variables"
   ]
  },
  {
   "cell_type": "code",
   "execution_count": null,
   "id": "5b484837",
   "metadata": {},
   "outputs": [],
   "source": [
    "v = 'Juan Perez'\n",
    "d = '15'\n",
    "p = 'Mexico, Colombia, Peru (Total 3)'\n",
    "g = '$50,000 MXN'"
   ]
  },
  {
   "cell_type": "markdown",
   "id": "60889a00",
   "metadata": {},
   "source": [
    "Concatenar"
   ]
  },
  {
   "cell_type": "code",
   "execution_count": null,
   "id": "7865d254",
   "metadata": {},
   "outputs": [],
   "source": [
    "reporte = '''\n",
    "======================================================================\n",
    "Reporte de viaje (Concatenar)\n",
    "======================================================================\n",
    "Viajero: ''' + v + '''\n",
    "Paises visitados: ''' + p + '''\n",
    "Dias de viaje: ''' + d + '''\n",
    "Gastos: ''' + g + '''\n",
    "======================================================================\n",
    "'''\n",
    "print(reporte)"
   ]
  },
  {
   "cell_type": "markdown",
   "id": "de678a9d",
   "metadata": {},
   "source": [
    "Placeholder"
   ]
  },
  {
   "cell_type": "code",
   "execution_count": null,
   "id": "7d0af010",
   "metadata": {},
   "outputs": [],
   "source": [
    "reporte = '''\n",
    "======================================================================\n",
    "Reporte de viaje (Placeholder)\n",
    "======================================================================\n",
    "Viajero: %s\n",
    "Paises visitados: %s\n",
    "Dias totales: %s\n",
    "Gastos: %s\n",
    "======================================================================\n",
    "''' % (v,p,d,g)\n",
    "print(reporte)"
   ]
  },
  {
   "cell_type": "markdown",
   "id": "0c1d7d83",
   "metadata": {},
   "source": [
    "str.format()"
   ]
  },
  {
   "cell_type": "code",
   "execution_count": null,
   "id": "3be019cf",
   "metadata": {},
   "outputs": [],
   "source": [
    "reporte = '''\n",
    "======================================================================\n",
    "Reporte de viaje (string.format())\n",
    "======================================================================\n",
    "Viajero: {}\n",
    "Paises visitados: {}\n",
    "Dias totales: {}\n",
    "Gastos: {}\n",
    "======================================================================\n",
    "'''.format(v,p,d,g)\n",
    "print(reporte)"
   ]
  },
  {
   "cell_type": "markdown",
   "id": "025baadd",
   "metadata": {},
   "source": [
    "F-string"
   ]
  },
  {
   "cell_type": "code",
   "execution_count": null,
   "id": "038d8e0e",
   "metadata": {},
   "outputs": [],
   "source": [
    "reporte = f'''\n",
    "======================================================================\n",
    "Reporte de viaje (f-strings)\n",
    "======================================================================\n",
    "Viajero: {v}\n",
    "Paises visitados: {p}\n",
    "Dias totales: {d}\n",
    "Gastos: {g}\n",
    "======================================================================\n",
    "'''\n",
    "print(reporte)"
   ]
  },
  {
   "cell_type": "markdown",
   "id": "eed2ad0e",
   "metadata": {},
   "source": [
    "## Gracias!\n",
    "\n",
    "Raul Gomez\n",
    "\n",
    "YouTube: https://www.youtube.com/channel/UCbSCUSwUWhFSgG_VVi8LSKw\n",
    "\n",
    "GitHub: https://github.com/rulerdo\n",
    "\n",
    "Twitter: https://twitter.com/rulerdo\n",
    "\n",
    "Linkedin: https://www.linkedin.com/in/raul-gomez-1a237593/\n",
    "\n",
    "Email: raul.agobe@gmail.com"
   ]
  }
 ],
 "metadata": {
  "kernelspec": {
   "display_name": "Python 3 (ipykernel)",
   "language": "python",
   "name": "python3"
  },
  "language_info": {
   "codemirror_mode": {
    "name": "ipython",
    "version": 3
   },
   "file_extension": ".py",
   "mimetype": "text/x-python",
   "name": "python",
   "nbconvert_exporter": "python",
   "pygments_lexer": "ipython3",
   "version": "3.9.7"
  }
 },
 "nbformat": 4,
 "nbformat_minor": 5
}
